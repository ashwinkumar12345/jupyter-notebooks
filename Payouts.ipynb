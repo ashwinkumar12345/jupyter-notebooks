{
 "cells": [
  {
   "cell_type": "markdown",
   "id": "106b6be1-4092-4c55-aa23-ed3650e988ed",
   "metadata": {},
   "source": [
    "# Payouts API Overview"
   ]
  },
  {
   "cell_type": "markdown",
   "id": "1998f235-6ca1-4d0f-a09f-5c725fbd4508",
   "metadata": {},
   "source": [
    "The Payouts API lets you see a list of deposits and withdrawals from a seller's banking destination.\n",
    "\n",
    "A banking destination can be a seller's external bank account, a Square checking or savings account (available only in the United States), or a debit card (for instant transfers).\n",
    "\n",
    "You can use the Payouts API to automatically reconcile transactions to and from the seller's banking destination to ensure that everything adds up. There are two steps in the reconciliation process: comparing the deposit amount from the bank statement to the payout amount and identifying which transactions go into each payout.\n",
    "\n",
    "The Payouts API doesn’t include data that's older than January 2021. To access this historical data, use the Seller Dashboard."
   ]
  },
  {
   "cell_type": "markdown",
   "id": "779fa585-6977-44ed-b6f6-f3c58e51636f",
   "metadata": {},
   "source": [
    "## Example use case\n",
    "\n",
    "Consider a scenario where a seller runs several coffee shops across the country. The coffee shops process thousands of card payments per week. The seller has set up an automated payout schedule, whereby Square sends a payout to the seller's bank account at the end of each day. \n",
    "\n",
    "You might use the Payouts API to review the summary of all payouts to make sure it matches the seller's bank account balance.\n",
    "\n",
    "You can also have the following use cases:\n",
    "\n",
    "* **Processing fees** - Compute processing fees for a payout by iterating through all payout entries. For example, if a payout has four entries: one charge for $100 with a $2 fee, one loan repayment for –$10, one refund for –$50 with a $1 fee, and a loan repayment refund for –$5, the total processing fee amount for this payout is $1. This is calculated as $2 + $0 – $1 + $0.\n",
    "* **Online marketplace** - An online marketplace app uses the Payouts API to see a list of deposits and withdrawals from a seller's banking destination. This could involve multiple sellers simultaneously reconciling their transactions.\n",
    "* **Subscription services** - A subscription-based service uses the Payouts API to reconcile regular payments to content creators.\n",
    "* **Retail refunds** - A retail business uses the Payouts API to track refunds for customers. This could involve the partial or full refund of purchases made in-store or online.\n",
    "* **Service marketplace** - A service marketplace, such as a home services platform, uses the Payouts API to track payments to service providers after they complete jobs."
   ]
  },
  {
   "cell_type": "markdown",
   "id": "a5f45cc0-fe51-4983-8c3c-d426a3d18f3d",
   "metadata": {},
   "source": [
    "## Payout object\n",
    "\n",
    "The `Payout` object shows the sum of all transactions paid to a seller's banking destination. It's a parent to a set of child payout entries that reflect the balance change for each transaction. \n",
    "\n",
    "Each `Payout` object has an `id` field, which uniquely identifies the `Payout` object for your application. It also has an `end_to_end_id` field that might appear on the seller's bank statements. \n",
    "\n",
    "{% aside type=\"info\" %}\n",
    "You can use the `end_to_end_id` field to automate the process of reconciling each payout with the corresponding line item on the seller's bank statement.\n",
    "{% /aside %}\n",
    "\n",
    "The `version` field is initially set to 0. For each successful update, Square increases the version number. You can use the `version` field for [optimistic concurrency](build-basics/common-api-patterns/optimistic-concurrency).\n",
    "\n",
    "```json copy_code\n",
    "{\n",
    "  \"payout\": {\n",
    "    \"id\": \"po_070431e4-e351-11eb-a8bb-02420a140009\",\n",
    "    \"status\": \"SENT\",\n",
    "    \"location_id\": \"{LOCATION_ID}\",\n",
    "    \"created_at\": \"2021-07-12T20:37:51Z\",\n",
    "    \"updated_at\": \"2021-07-12T20:37:51Z\",\n",
    "    \"amount_money\": {\n",
    "      \"amount\": 457,\n",
    "      \"currency_code\": \"EUR\"\n",
    "    },\n",
    "    \"destination\": {\n",
    "      \"type\": \"BANK_ACCOUNT\",\n",
    "      \"id\": \"bact:cgvL1yv43VFjexample\"\n",
    "    },\n",
    "    \"version\": 1,\n",
    "    \"type\": \"BATCH\",\n",
    "    \"arrival_date\": \"2021-07-13\",\n",
    "    \"end_to_end_id\": \"L2100000000\"\n",
    "  }\n",
    "}\n",
    "```\n",
    "\n",
    "The following table describes a few of the key fields:\n",
    "\n",
    "| Field           | Description                                                                                                                                                                                                                                                                                                                                                                                                                                                                                                                                                                                                                       |\n",
    "|-----------------|-----------------------------------------------------------------------------------------------------------------------------------------------------------------------------------------------------------------------------------------------------------------------------------------------------------------------------------------------------------------------------------------------------------------------------------------------------------------------------------------------------------------------------------------------------------------------------------------------------------------------------------|\n",
    "| `amount_money`  | The amount and currency of the payout that is either sent to or pulled from the seller's banking destination. A positive value for the `amount_money` field represents a credit and increases the balance of the seller's banking destination. A negative value for the `amount_money` field represents a debit and decreases the balance of the seller's banking destination.                                                                                                                                                                                                                                                    |\n",
    "| `created_at`    | The timestamp of when the payout is sent to the banking destination.                                                                                                                                                                                                                                                                                                                                                                                                                                                                                                                                                              |\n",
    "| `arrival_date`  | The timestamp of when the seller can expect the funds to arrive in or be taken out of the banking destination (in ISO 8601 local date format).                                                                                                                                                                                                                                                                                                                                                                                                                                                                                    |\n",
    "| `destination`   | The type and ID, where applicable, of the bank to which the payout is made. The following destination types are supported: * BANK_ACCOUNT: External bank outside of Square.  * CARD: A debit card for the transfer. This is only applicable for manual payouts.  * SQUARE_STORED_BALANCE: Square Checking or Savings account (US).                                                                                                                                                                                                                                                                                                |\n",
    "| `type`          | The type of payout include the following:  * BATCH: Payouts that include a list of payout entries that can be considered settled. * SIMPLE: Arbitrary amount payouts that do not have any payout entries associated with them. However, a  corresponding payout entry is created in the following batch payout to deduct the amount of the simple payout.                                                                                                                                                                                                                                                                         |\n",
    "| `end_to_end_id` | A unique ID for the payout that might appear on the seller's bank statement. The following guidelines apply to the `end_to_end`_id field: * Automatic transfer setting - The seller must enable the automatic transfer setting for the `end_to_end_id` field to appear. * Manual transfers - The `end_to_end_id` field isn't supported for manual transfers. * Instant transfers - The `end_to_end_id` field is supported for instant transfers only if the seller has enabled automatic transfers. * International banks - Banks located in non-US regions might not include the `end_to_end_id` field on their bank statements. |"
   ]
  },
  {
   "cell_type": "markdown",
   "id": "a0ccc8c3-feb2-4a3f-afe3-676b42aebdc9",
   "metadata": {},
   "source": [
    "## Payout states\n",
    "\n",
    "A `Payout` object can have one of three states: `SENT`, `PAID`, or `FAILED`. \n",
    "\n",
    "The initial status of a payout is `SENT`. If Square doesn't receive any response from the seller's bank for a time period, Square assumes that the payout is successfully deposited and updates the status to `PAID`. \n",
    "\n",
    "If the seller's bank account sends a response saying that the payout failed, Square updates the status of the payout entry to `FAILED`. \n",
    "\n",
    "If the response from the seller's bank comes back later than Square expects, a payout that is initially marked as `PAID` can transition to `FAILED` because the deposit or withdrawal ultimately failed.\n",
    "\n",
    "![payout-api-states](//images.ctfassets.net/1nw4q0oohfju/6DpdkMDHr4gtSbRi3gjj5R/d2403eba6dc881b0863d0e47bee54398/payout-api-states.png)\n",
    "\n",
    "{% aside type=\"info\" %}\n",
    "You can use webhooks in an application to constantly listen for a state change in the payouts data and notify you when it meets certain conditions. For example, you might use a webhook to set up an email alert for when a payout state changes from `PAID` to `FAILED`. For more information about using webhooks, see [Square Webhooks Overview](webhooks/overview).\n",
    "{% /aside %}\n"
   ]
  },
  {
   "cell_type": "markdown",
   "id": "8f394a1e-fd55-4d10-8e30-caa7ce72f22a",
   "metadata": {},
   "source": [
    "## Real-world use cases\n",
    "\n",
    "This section describes a few practical applications for using the Payouts API.\n",
    "\n",
    "{% aside type=\"info\" %}\n",
    "Square access tokens are required to authenticate and authorize API requests. The samples in this section assume that your access token resides in an environment file in your project folder. If you're executing a sample as a standalone Python script, replace `os.environ['SQUARE_ACCESS_TOKEN']` with your access token. You can [find your Sandbox access token](build-basics/access-tokens#get-a-personal-access-token) in the [${DEVELOPER_DASHBOARD_NAME}](${APP_DASHBOARD}).\n",
    "{% /aside %}"
   ]
  },
  {
   "cell_type": "markdown",
   "id": "f698cdf9-94f5-465c-9f2e-2351ee0d068d",
   "metadata": {},
   "source": [
    "### Reconciling transactions\n",
    "You can use the Payouts API to develop an application to automatically reconcile transactions to and from the Square seller's banking destination. Automating accounting reconciliation streamlines financial processes, reduces manual effort, and minimizes the risk of errors in maintaining accurate financial records.\n",
    "\n",
    "You need to create your own reconciliation logic based on the payout data received from the API. This reconciliation logic is essential for aligning transactions with payouts and ensuring accurate accounting records."
   ]
  },
  {
   "cell_type": "markdown",
   "id": "810578bc-8442-4c9b-9811-fb29e5eb1c67",
   "metadata": {},
   "source": [
    "The following code retrieves the payouts for a specific Square location and prints their IDs and amounts. You can use this data as a starting point for creating your own reconciliation logic based on the specific needs of your accounting system."
   ]
  },
  {
   "cell_type": "code",
   "execution_count": null,
   "id": "3f4941b5-04c5-4c22-9f8c-bfaf55d7c1d5",
   "metadata": {},
   "outputs": [],
   "source": [
    "# Sample Python code for automated accounting reconciliation\n",
    "from square.client import Client\n",
    "import os\n",
    "\n",
    "# Set the access token from environment variable\n",
    "SQUARE_ACCESS_TOKEN = 'EAAAENYhnjHmVc51jv8fJqxJYy3OqqcMB6yszlkP_BfChRJfoO7ZW_yygPR5HM_n'\n",
    "\n",
    "# Set the location ID\n",
    "location_id = 'LGERKFFHS8TFQ'\n",
    "\n",
    "# Get Payouts API client\n",
    "payouts_api = Client(access_token=SQUARE_ACCESS_TOKEN, environment='sandbox').payouts\n",
    "\n",
    "result = payouts_api.list_payouts(location_id = location_id)\n",
    "print(\"hello\")\n",
    "if result.is_success():\n",
    "    payouts = result.body.get('payouts', [])\n",
    "    for payout in payouts:\n",
    "        print(\"Payout ID:\", payout.id, \"Amount:\", payout.amount_money.amount)\n",
    "elif result.is_error():\n",
    "    print(\"Error retrieving payouts: \", result.errors)"
   ]
  },
  {
   "cell_type": "code",
   "execution_count": null,
   "id": "102cd4de-9d77-4757-ae22-053e08b8cc56",
   "metadata": {},
   "outputs": [],
   "source": [
    "print(\"hello\")"
   ]
  },
  {
   "cell_type": "markdown",
   "id": "91e6ff8f-8d1a-47ac-857e-1bf49999418d",
   "metadata": {},
   "source": [
    "In this code sample, you must set the following parameter:\n",
    "\n",
    "* **Location ID** - Set the `location_id` to specify the Square location for which the payouts are being retrieved. You can access location IDs through the Locations API or from the **Locations** tab in the [${DEVELOPER_DASHBOARD_NAME}](${APP_DASHBOARD}).\n",
    "\n",
    "The code does the following:\n",
    "\n",
    "- **Payouts retrieval** - The code invokes the `list_payouts` method of the Payouts API to fetch a list of payouts linked to the specified location.\n",
    "- **Iterating through payouts** - A loop iterates through the retrieved payouts. For each payout, you can implement your custom reconciliation logic.\n",
    "\n",
    "The code outputs the following for each payout in the list:\n",
    "\n",
    "- **Payout ID** - The unique identifier for the payout.\n",
    "- **Amount** - The amount of the payout.\n",
    "\n",
    "In the payout object, you also have access to the following:\n",
    "\n",
    "- **Currency code** - The currency code of the payout.\n",
    "- **Status** - The current status of the payout. For example, `SENT`, `PAID`, or `FAILED`. For information see [Payout states](payouts-api/overview#payout-states).\n",
    "- **Arrival date** - The expected arrival date of the funds in the bank account."
   ]
  },
  {
   "cell_type": "markdown",
   "id": "1ac4458e-68ea-4d71-972b-665a88a52e2a",
   "metadata": {},
   "source": [
    "### Get the end_to_end_id field of a payout"
   ]
  },
  {
   "cell_type": "markdown",
   "id": "46b9d833-d6dd-4304-8eb1-aa9936ef6ed8",
   "metadata": {},
   "source": [
    "The `end_to_end_id` field is a unique ID for the payout that might appear on the seller's bank statement. You can use this field to uniquely identify a `Payout` object for your application and match it with your bank statement. Banks located in non-US regions might not include the `end_to_end_id` field on their bank statements."
   ]
  },
  {
   "cell_type": "code",
   "execution_count": null,
   "id": "b9a10302-4884-4715-8ea9-e4396ad2b07c",
   "metadata": {},
   "outputs": [],
   "source": []
  },
  {
   "cell_type": "code",
   "execution_count": null,
   "id": "0306c7b4-f60d-411d-b23c-691d2e1620d9",
   "metadata": {},
   "outputs": [],
   "source": [
    "# Sample Python code for getting a payout of a seller\n",
    "from square.client import Client\n",
    "import os, json\n",
    "\n",
    "# Set the access token from environment variable\n",
    "SQUARE_ACCESS_TOKEN = os.environ['EAAAENYhnjHmVc51jv8fJqxJYy3OqqcMB6yszlkP_BfChRJfoO7ZW_yygPR5HM_n']\n",
    "\n",
    "# Get payouts api client\n",
    "payouts_api = Client(access_token=SQUARE_ACCESS_TOKEN, environment='sandbox').payouts\n",
    "\n",
    "payout_id = 'payout_id'\n",
    "result = payout_api.get_payout(payout_id)\n",
    "if result.is_success():\n",
    "    print(json.dumps(result.body, indent=4))\n",
    "elif result.is_error():\n",
    "    print(f\"Error retrieving payout with id {payout_id}: \", result.errors)"
   ]
  },
  {
   "cell_type": "markdown",
   "id": "cd71e984-29a9-4307-8187-e9f830fb6a2b",
   "metadata": {},
   "source": [
    "In the code sample, you must set the following parameter:\n",
    "\n",
    "- **Payout ID** - Set the `payout_id` to specify the payout for which you want to retrieve the `end_to_end_id` field along with other information."
   ]
  },
  {
   "cell_type": "markdown",
   "id": "6660115f-4d22-44b5-beb6-e0b66c3dcba0",
   "metadata": {},
   "source": [
    "### Real-time payout status monitoring (webhook handling)\n",
    "\n",
    "You can use webhooks to listen for state changes in payout data, enabling real-time notifications when a payout's state changes (for example, from `PAID` to `FAILED`), allowing for prompt actions and alerts. For more information, see [Payout states](payouts-api/overview#payout-states)."
   ]
  },
  {
   "cell_type": "markdown",
   "id": "21851c88-35e9-4057-b90c-f807b229fd7c",
   "metadata": {},
   "source": [
    "#### setup.py\n",
    "\n",
    "# Sample Python code for webhook handling\n",
    "from flask import Flask, request\n",
    "\n",
    "app = Flask(__name__)\n",
    "\n",
    "@app.route('/webhook', methods=['POST'])\n",
    "def webhook_listener():\n",
    "    data = request.get_json()\n",
    "    # Implement logic to handle payout state changes\n",
    "    print(\"Webhook Received - Payout State Change:\", data['event']['type'])\n",
    "    return 'Webhook Received', 200\n",
    "\n",
    "if __name__ == '__main__':\n",
    "    app.run(port=5000)"
   ]
  },
  {
   "cell_type": "markdown",
   "id": "d0d73edf-49f7-4031-8208-b48d46e5f1f6",
   "metadata": {},
   "source": [
    "The `setup.py` script does the following:\n",
    "\n",
    "- **Flask application setup** - Creates a Flask application and defines an endpoint (`/webhook`) to handle incoming webhook events.\n",
    "- **Webhook event processing** - The `webhook_listener` function runs when a POST request is received at the `/webhook` endpoint. It does the following:\n",
    "  * Extracts JSON data from the request, representing the webhook event.\n",
    "  * Contains logic to handle payout state changes. This sample prints a message indicating the type of payout event received. \n",
    "  * Sends a response with the message 'Webhook Received' and a `200` status code to acknowledge the receipt of the webhook event."
   ]
  },
  {
   "cell_type": "code",
   "execution_count": null,
   "id": "5fae3c9f-1500-43b8-9492-f400edca0b1d",
   "metadata": {},
   "outputs": [],
   "source": [
    "#### list_webhook_events.py\n",
    "\n",
    "# Sample Python code for getting list of event types supported in webhook subscription\n",
    "from square.client import Client\n",
    "import os\n",
    "\n",
    "# Set the access token from environment variable\n",
    "SQUARE_ACCESS_TOKEN = os.environ['EAAAENYhnjHmVc51jv8fJqxJYy3OqqcMB6yszlkP_BfChRJfoO7ZW_yygPR5HM_n']\n",
    "\n",
    "# Set the location ID\n",
    "location_id = 'LGERKFFHS8TFQ'\n",
    "\n",
    "# Get Webhook Subscriptions API client\n",
    "webhook_subscriptions_api = Client(access_token=SQUARE_ACCESS_TOKEN, environment='sandbox').webhook_subscriptions\n",
    "\n",
    "result = webhook_subscriptions_api.list_webhook_event_types()\n",
    "if result.is_success():\n",
    "    print(\"======== Currently supported event types ========\")\n",
    "    for event_type in result.body.get('event_types'):\n",
    "        print(event_type)\n",
    "    print(\"======== Event type metadatas ========\")\n",
    "    for event_metadata in result.body.get('metadata'):\n",
    "        print(f\"{event_metadata.get('event_type')} | Api version introduced: {event_metadata.get('api_version_introduced')} | Release status: {event_metadata.get('release_status')}\")\n",
    "\n",
    "# Specifically for payout, there are three event types we currently support:  \"payout.failed\", \"payout.paid\", \"payout.sent\", but use list_webhook_event_types() whenever you want to subscribe to new event types."
   ]
  },
  {
   "cell_type": "markdown",
   "id": "ba9bd12d-1b69-4ee2-9018-94edbafcb1d7",
   "metadata": {},
   "source": [
    "The `list_webhook_events.py` script retrieves the available event types supported in the payout webhook. For more information, see [Webhook Subscriptions API Overview](webhooks/webhook-subscriptions-api)."
   ]
  },
  {
   "cell_type": "code",
   "execution_count": null,
   "id": "dba519df-02e8-47a3-8e01-f4b6c2e48e77",
   "metadata": {},
   "outputs": [],
   "source": []
  }
 ],
 "metadata": {
  "kernelspec": {
   "display_name": "Python 3 (ipykernel)",
   "language": "python",
   "name": "python3"
  },
  "language_info": {
   "codemirror_mode": {
    "name": "ipython",
    "version": 3
   },
   "file_extension": ".py",
   "mimetype": "text/x-python",
   "name": "python",
   "nbconvert_exporter": "python",
   "pygments_lexer": "ipython3",
   "version": "3.11.7"
  }
 },
 "nbformat": 4,
 "nbformat_minor": 5
}
